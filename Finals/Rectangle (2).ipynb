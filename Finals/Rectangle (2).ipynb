{
  "cells": [
    {
      "cell_type": "code",
      "execution_count": 3,
      "metadata": {
        "id": "Ie1aajkVWh8N",
        "colab": {
          "base_uri": "https://localhost:8080/"
        },
        "outputId": "529541d3-d951-4224-aa01-f22264fa42ef"
      },
      "outputs": [
        {
          "output_type": "stream",
          "name": "stdout",
          "text": [
            "Processing complete. All videos have been saved.\n"
          ]
        }
      ],
      "source": [
        "import numpy as np\n",
        "# (Not used in this script, but often included for array operations in OpenCV)\n",
        "import cv2\n",
        "# OpenCV library for image and video processing\n",
        "import threading\n",
        "# Used for concurrent execution of video processing tasks\n",
        "\n",
        "# Function to process a single video file\n",
        "def process_video(video_path, output_path, haar_cascade_path):\n",
        "    # Load the Haar Cascade for car detection from the specified XML file\n",
        "    car_cascade = cv2.CascadeClassifier(haar_cascade_path)\n",
        "\n",
        "    # Open the input video file\n",
        "    cap = cv2.VideoCapture(video_path)\n",
        "\n",
        "    # Retrieve video properties such as width, height, and frames per second (fps)\n",
        "    frame_width = int(cap.get(cv2.CAP_PROP_FRAME_WIDTH))\n",
        "    frame_height = int(cap.get(cv2.CAP_PROP_FRAME_HEIGHT))\n",
        "    fps = int(cap.get(cv2.CAP_PROP_FPS))\n",
        "\n",
        "    # Define the codec for the output video file and initialize VideoWriter object\n",
        "    fourcc = cv2.VideoWriter_fourcc(*'mp4v')\n",
        "    out = cv2.VideoWriter(output_path, fourcc, fps, (frame_width, frame_height))\n",
        "\n",
        "    # Loop through each frame of the video\n",
        "    while cap.isOpened():\n",
        "        ret, frame = cap.read()\n",
        "        # Read a frame from the video\n",
        "        if not ret:\n",
        "        # Break the loop if no more frames are available\n",
        "            break\n",
        "\n",
        "        # Convert the frame to grayscale (required for Haar cascade detection)\n",
        "        gray = cv2.cvtColor(frame, cv2.COLOR_BGR2GRAY)\n",
        "        # Detect cars in the frame using the Haar cascade\n",
        "        cars = car_cascade.detectMultiScale(gray, 1.3, 5)\n",
        "\n",
        "        # Draw rectangles around detected cars\n",
        "        for (x, y, w, h) in cars:\n",
        "            cv2.rectangle(frame, (x, y), (x + w, y + h), (0, 0, 255), 3)\n",
        "            # Red rectangle, thickness 3\n",
        "\n",
        "        # Write the processed frame with annotations to the output video\n",
        "        out.write(frame)\n",
        "\n",
        "    # Release resources to free up memory\n",
        "    cap.release()\n",
        "    # Close the video file\n",
        "    out.release()\n",
        "    # Close the output file\n",
        "\n",
        "# Path to the Haar cascade XML file for car detection\n",
        "haar_cascade = 'haarcascade_car.xml'\n",
        "# List of input video file paths\n",
        "videos = [\n",
        "    'Car Set 1.mp4',\n",
        "    'Car Set 2.mp4',\n",
        "    'Car Set 3.mp4',\n",
        "    'Car Set 4.mp4',\n",
        "    'Car Set 5.mp4'\n",
        "]\n",
        "# List of corresponding output video file paths\n",
        "output_videos = [\n",
        "    'Car Detector 1.mp4',\n",
        "    'Car Detector 2.mp4',\n",
        "    'Car Detector 3.mp4',\n",
        "    'Car Detector 4.mp4',\n",
        "    'Car Detector 5.mp4'\n",
        "]\n",
        "\n",
        "# List to hold thread objects\n",
        "threads = []\n",
        "\n",
        "# Create and start a thread for processing each video\n",
        "for i in range(len(videos)):\n",
        "# Initialize a new thread to process the video using the `process_video` function\n",
        "    thread = threading.Thread(target=process_video, args=(videos[i], output_videos[i], haar_cascade))\n",
        "    threads.append(thread)\n",
        "    # Add the thread to the list\n",
        "    thread.start()\n",
        "    # Start the thread\n",
        "\n",
        "# Wait for all threads to finish processing\n",
        "for thread in threads:\n",
        "    thread.join()\n",
        "    # Block the main thread until the current thread completes\n",
        "\n",
        "# Print a message when all videos have been processed\n",
        "print(\"Processing complete. All videos have been saved.\")"
      ]
    }
  ],
  "metadata": {
    "colab": {
      "provenance": []
    },
    "kernelspec": {
      "display_name": "Python 3",
      "name": "python3"
    },
    "language_info": {
      "name": "python"
    }
  },
  "nbformat": 4,
  "nbformat_minor": 0
}