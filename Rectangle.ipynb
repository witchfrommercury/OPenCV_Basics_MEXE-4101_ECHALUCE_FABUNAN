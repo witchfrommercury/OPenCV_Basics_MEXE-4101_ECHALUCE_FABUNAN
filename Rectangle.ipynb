{
  "nbformat": 4,
  "nbformat_minor": 0,
  "metadata": {
    "colab": {
      "provenance": []
    },
    "kernelspec": {
      "name": "python3",
      "display_name": "Python 3"
    },
    "language_info": {
      "name": "python"
    }
  },
  "cells": [
    {
      "cell_type": "code",
      "execution_count": null,
      "metadata": {
        "id": "Ie1aajkVWh8N"
      },
      "outputs": [],
      "source": [
        "import numpy as np\n",
        "import cv2\n",
        "\n",
        "haar_cascade = 'haarcascade_car.xml'  # Path to Haar Cascade file\n",
        "video = 'cars.mp4'  # Path to the video file\n",
        "\n",
        "# Open the video file\n",
        "cap = cv2.VideoCapture(video)\n",
        "car_cascade = cv2.CascadeClassifier(haar_cascade)\n",
        "\n",
        "# Get the video's width, height, and frames per second (fps)\n",
        "frame_width = int(cap.get(cv2.CAP_PROP_FRAME_WIDTH))\n",
        "frame_height = int(cap.get(cv2.CAP_PROP_FRAME_HEIGHT))\n",
        "fps = int(cap.get(cv2.CAP_PROP_FPS))\n",
        "\n",
        "# Define the codec and create a VideoWriter object\n",
        "fourcc = cv2.VideoWriter_fourcc(*'mp4v')  # Codec for mp4 format\n",
        "out = cv2.VideoWriter('Car_Detector.mp4', fourcc, fps, (frame_width, frame_height))\n",
        "\n",
        "while cap.isOpened():\n",
        "    ret, frame = cap.read()\n",
        "    if not ret:\n",
        "        break\n",
        "\n",
        "    gray = cv2.cvtColor(frame, cv2.COLOR_BGR2GRAY)\n",
        "    cars = car_cascade.detectMultiScale(gray, 1.3, 5)\n",
        "\n",
        "    for (x, y, w, h) in cars:\n",
        "        cv2.rectangle(frame, (x, y), (x + w + 5, y + h + 5), (0, 0, 255), 3)\n",
        "\n",
        "    # Write the processed frame to the video file\n",
        "    out.write(frame)\n",
        "\n",
        "# Release resources\n",
        "cap.release()\n",
        "out.release()\n"
      ]
    }
  ]
}